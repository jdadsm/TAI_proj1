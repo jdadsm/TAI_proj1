{
 "cells": [
  {
   "cell_type": "code",
   "execution_count": null,
   "metadata": {},
   "outputs": [],
   "source": [
    "import numpy as np\n",
    "import seaborn as sns\n",
    "import matplotlib.pyplot as plt\n",
    "\n",
    "# Load data\n",
    "file_content = []\n",
    "with open('../src/bits_it.txt', 'r') as file:\n",
    "    for line in file:\n",
    "        file_content.append(float(line.strip()))  # Convert to float and remove newline character\n",
    "\n",
    "# Define downsampling factor\n",
    "downsampling_factor = 100000  # Adjust this as needed\n",
    "\n",
    "# Downsample the data\n",
    "downsampled_content = file_content[::downsampling_factor]\n",
    "\n",
    "# Create index for downsampled data\n",
    "index = np.arange(0, len(file_content), downsampling_factor)\n",
    "\n",
    "# Plot downsampled data\n",
    "plt.plot(index, downsampled_content, label='Chunksize')\n",
    "\n",
    "# Labeling and Title\n",
    "plt.xlabel(\"Iterations\")\n",
    "plt.ylabel(\"Size\")\n",
    "plt.title(\"Bits per iteration\")\n",
    "\n",
    "# Show legend\n",
    "plt.legend()\n",
    "\n",
    "# Save the plot as an image file\n",
    "plt.savefig(\"downsampled_plot2.png\")\n",
    "\n",
    "# Show plot\n",
    "plt.show()\n"
   ]
  },
  {
   "cell_type": "code",
   "execution_count": null,
   "metadata": {},
   "outputs": [],
   "source": [
    "file_content  = list()\n",
    "with open('../src/grid_search_iteration_last_ten.txt', 'r') as file:\n",
    "# Iterate over each line in the file\n",
    "    for line in file:\n",
    "    # Process each line as needed\n",
    "        file_content.append(line.removesuffix(\"\\n\").split(\",\"))\n",
    "        \n",
    "import pandas as pd\n",
    "file_content_last_ten = pd.DataFrame(file_content)"
   ]
  },
  {
   "cell_type": "code",
   "execution_count": null,
   "metadata": {},
   "outputs": [],
   "source": [
    "\n",
    "def transform_file(file_content_last_ten):\n",
    "    chunksizes = file_content_last_ten.iloc[:,1].apply(lambda a : int(a.removeprefix(\" Chunksize: \")))\n",
    "    thresholds = file_content_last_ten.iloc[:,2].apply(lambda a : float(a.removeprefix(\" Threshold: \")))\n",
    "    sizes = file_content_last_ten.iloc[:,3].apply(lambda a : float(a.removeprefix(\" Size: \")))\n",
    "    return chunksizes, thresholds, sizes\n"
   ]
  },
  {
   "cell_type": "code",
   "execution_count": null,
   "metadata": {},
   "outputs": [],
   "source": [
    "import numpy as np\n",
    "import seaborn as sns\n",
    "import matplotlib.pyplot as plt\n",
    "\n",
    "chunksizes, thresholds, sizes = transform_file(file_content_last_ten)\n",
    "\n",
    "index = np.arange(len(sizes))\n",
    "\n",
    "# Plotting\n",
    "plt.plot(index, sizes, label='Chunksize')\n",
    "\n",
    "# Labeling and Title\n",
    "plt.xlabel(\"Iterations\")\n",
    "plt.ylabel(\"Sizes\")\n",
    "plt.title(\"Last Ten\")\n",
    "\n",
    "# Show legend\n",
    "plt.legend()\n",
    "\n",
    "# Save the plot as an image file\n",
    "plt.savefig(\"scatter_plot.png\")"
   ]
  },
  {
   "cell_type": "code",
   "execution_count": null,
   "metadata": {},
   "outputs": [],
   "source": [
    "plt.scatter(chunksizes, thresholds, s=200/(sizes), c=sizes, cmap='viridis',vmin=1.5,vmax=5.5)\n",
    "plt.colorbar(label='Sizes')  # Add a color bar\n",
    "plt.xlabel('Kmer')\n",
    "plt.ylabel('Thresholds')\n",
    "plt.title('\"Last ten\" method with distributed prbabilities')\n",
    "\n",
    "plt.savefig(\"last_ten.png\")"
   ]
  },
  {
   "cell_type": "code",
   "execution_count": null,
   "metadata": {},
   "outputs": [],
   "source": [
    "file_content  = list()\n",
    "with open('../src/grid_search_iterations_default.txt', 'r') as file:\n",
    "# Iterate over each line in the file\n",
    "    for line in file:\n",
    "    # Process each line as needed\n",
    "        file_content.append(line.removesuffix(\"\\n\").split(\",\"))\n",
    "        \n",
    "import pandas as pd\n",
    "file_content_default = pd.DataFrame(file_content)\n",
    "chunksizes, thresholds, sizes = transform_file(file_content_default)"
   ]
  },
  {
   "cell_type": "code",
   "execution_count": null,
   "metadata": {},
   "outputs": [],
   "source": [
    "plt.scatter(chunksizes, thresholds, s=200/(sizes), c=sizes, cmap='viridis',vmin=2,vmax=5.5)\n",
    "plt.colorbar(label='Sizes')  # Add a color bar\n",
    "plt.xlabel('Kmer')\n",
    "plt.ylabel('Thresholds')\n",
    "plt.title('First grid search')\n",
    "\n",
    "plt.savefig(\"default.png\")"
   ]
  }
 ],
 "metadata": {
  "kernelspec": {
   "display_name": "Python 3",
   "language": "python",
   "name": "python3"
  },
  "language_info": {
   "codemirror_mode": {
    "name": "ipython",
    "version": 3
   },
   "file_extension": ".py",
   "mimetype": "text/x-python",
   "name": "python",
   "nbconvert_exporter": "python",
   "pygments_lexer": "ipython3",
   "version": "3.11.5"
  }
 },
 "nbformat": 4,
 "nbformat_minor": 2
}
